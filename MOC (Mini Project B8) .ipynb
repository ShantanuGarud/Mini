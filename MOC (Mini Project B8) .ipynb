{
 "cells": [
  {
   "cell_type": "code",
   "execution_count": 2,
   "id": "ad31688d",
   "metadata": {},
   "outputs": [
    {
     "name": "stdout",
     "output_type": "stream",
     "text": [
      "Enter your name: Harshada \n",
      "Enter the fee amount: $57000\n",
      "Enter the deadline (YYYY-MM-DD HH:MM:SS): 2023-10-20 12:00:00\n",
      "Hello Harshada ! Your fee for this semester is $57000.0.\n",
      "Payment successful! Thank you for submitting your fee.\n"
     ]
    }
   ],
   "source": [
    "import time\n",
    "\n",
    "class CollegeFeePayment:\n",
    "    def __init__(self, student_name, fee_amount, deadline):\n",
    "        self.student_name = student_name\n",
    "        self.fee_amount = fee_amount\n",
    "        self.deadline = deadline\n",
    "\n",
    "    def FeesMethod(self):\n",
    "        print(f\"Hello {self.student_name}! Your fee for this semester is ${self.fee_amount}.\")\n",
    "\n",
    "    def make_payment(self):\n",
    "       \n",
    "        time.sleep(2)  \n",
    "        return True\n",
    "\n",
    "    def set_alarm(self):\n",
    "        current_time = time.localtime()\n",
    "        submission_time = time.strptime(self.deadline, \"%Y-%m-%d %H:%M:%S\")\n",
    "\n",
    "        if current_time > submission_time:\n",
    "            print(\"You missed the fee submission deadline! Set an alarm for the next semester.\")\n",
    "        else:\n",
    "            print(\"Payment successful! Thank you for submitting your fee.\")\n",
    "\n",
    "if __name__ == \"__main__\":\n",
    "    student_name = input(\"Enter your name: \")\n",
    "    fee_amount = float(input(\"Enter the fee amount: $\"))\n",
    "    deadline = input(\"Enter the deadline (YYYY-MM-DD HH:MM:SS): \")\n",
    "\n",
    "    payment = CollegeFeePayment(student_name, fee_amount, deadline)\n",
    "    payment.FeesMethod()\n",
    "\n",
    "    payment_successful = payment.make_payment()\n",
    "\n",
    "    if payment_successful:\n",
    "        payment.set_alarm()\n"
   ]
  },
  {
   "cell_type": "code",
   "execution_count": null,
   "id": "082b4c71",
   "metadata": {},
   "outputs": [],
   "source": []
  }
 ],
 "metadata": {
  "kernelspec": {
   "display_name": "Python 3 (ipykernel)",
   "language": "python",
   "name": "python3"
  },
  "language_info": {
   "codemirror_mode": {
    "name": "ipython",
    "version": 3
   },
   "file_extension": ".py",
   "mimetype": "text/x-python",
   "name": "python",
   "nbconvert_exporter": "python",
   "pygments_lexer": "ipython3",
   "version": "3.10.9"
  }
 },
 "nbformat": 4,
 "nbformat_minor": 5
}
