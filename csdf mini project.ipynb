{
 "cells": [
  {
   "cell_type": "code",
   "execution_count": 3,
   "id": "fa0a008f",
   "metadata": {},
   "outputs": [
    {
     "name": "stdout",
     "output_type": "stream",
     "text": [
      "Defaulting to user installation because normal site-packages is not writeable\n",
      "Collecting imagehash\n",
      "  Downloading ImageHash-4.3.1-py2.py3-none-any.whl (296 kB)\n",
      "     ------------------------------------ 296.5/296.5 kB 416.7 kB/s eta 0:00:00\n",
      "Requirement already satisfied: pillow in c:\\programdata\\anaconda3\\lib\\site-packages (from imagehash) (9.4.0)\n",
      "Requirement already satisfied: numpy in c:\\programdata\\anaconda3\\lib\\site-packages (from imagehash) (1.23.5)\n",
      "Requirement already satisfied: scipy in c:\\programdata\\anaconda3\\lib\\site-packages (from imagehash) (1.10.0)\n",
      "Requirement already satisfied: PyWavelets in c:\\programdata\\anaconda3\\lib\\site-packages (from imagehash) (1.4.1)\n",
      "Installing collected packages: imagehash\n",
      "Successfully installed imagehash-4.3.1\n",
      "Note: you may need to restart the kernel to use updated packages.\n"
     ]
    }
   ],
   "source": [
    "pip install imagehash"
   ]
  },
  {
   "cell_type": "code",
   "execution_count": 6,
   "id": "78c9c3cc",
   "metadata": {},
   "outputs": [
    {
     "name": "stdout",
     "output_type": "stream",
     "text": [
      "MD5 Hash: 7c346da6911ad0bea5e3f54bdc9f412a\n",
      "No EXIF data found.\n",
      "\n",
      "Steganography Detected: 1111111111111111111111111111111111111111111111111111111111111111111111111111111111111111111111111111...\n",
      "\n",
      "Perceptual Hash: 2d2d4d4e0e968f0d\n"
     ]
    }
   ],
   "source": [
    "import hashlib\n",
    "from PIL import Image\n",
    "from imagehash import dhash\n",
    "\n",
    "def compute_hash(filepath):\n",
    "    \"\"\"Compute MD5 hash of an image file.\"\"\"\n",
    "    with open(filepath, 'rb') as f:\n",
    "        return hashlib.md5(f.read()).hexdigest()\n",
    "\n",
    "def extract_exif(filepath):\n",
    "    \"\"\"Extract EXIF data from an image file.\"\"\"\n",
    "    with Image.open(filepath) as img:\n",
    "        exif_data = img._getexif()\n",
    "        return exif_data\n",
    "\n",
    "def detect_steganography(filepath):\n",
    "    \"\"\"Detect steganography using LSB analysis.\"\"\"\n",
    "    with Image.open(filepath) as img:\n",
    "        width, height = img.size\n",
    "        pixel_data = list(img.getdata())\n",
    "        hidden_data = ''\n",
    "        for pixel in pixel_data:\n",
    "            for color_channel in pixel:\n",
    "                hidden_data += str(color_channel & 1)\n",
    "        return hidden_data\n",
    "\n",
    "def perceptual_hash(filepath):\n",
    "    \"\"\"Generate perceptual hash of an image.\"\"\"\n",
    "    with Image.open(filepath) as img:\n",
    "        hash_value = dhash(img)\n",
    "        return str(hash_value)\n",
    "\n",
    "def main():\n",
    "    filepath = 'test.jpg'\n",
    "\n",
    "    md5_hash = compute_hash(filepath)\n",
    "    print(f'MD5 Hash: {md5_hash}')\n",
    "\n",
    "    exif_data = extract_exif(filepath)\n",
    "\n",
    "    if exif_data is not None:\n",
    "        print('\\nEXIF Data:')\n",
    "        for tag, value in exif_data.items():\n",
    "            print(f'Tag: {tag}, Value: {value}')\n",
    "    else:\n",
    "        print('No EXIF data found.')\n",
    "\n",
    "    hidden_data = detect_steganography(filepath)\n",
    "    if hidden_data:\n",
    "        print(f'\\nSteganography Detected: {hidden_data[:100]}...')\n",
    "    else:\n",
    "        print('No steganography detected.')\n",
    "\n",
    "    phash = perceptual_hash(filepath)\n",
    "    print(f'\\nPerceptual Hash: {phash}')\n",
    "\n",
    "if __name__ == '__main__':\n",
    "    main()\n"
   ]
  },
  {
   "cell_type": "code",
   "execution_count": null,
   "id": "dff482d8",
   "metadata": {},
   "outputs": [],
   "source": []
  }
 ],
 "metadata": {
  "kernelspec": {
   "display_name": "Python 3 (ipykernel)",
   "language": "python",
   "name": "python3"
  },
  "language_info": {
   "codemirror_mode": {
    "name": "ipython",
    "version": 3
   },
   "file_extension": ".py",
   "mimetype": "text/x-python",
   "name": "python",
   "nbconvert_exporter": "python",
   "pygments_lexer": "ipython3",
   "version": "3.10.9"
  }
 },
 "nbformat": 4,
 "nbformat_minor": 5
}
